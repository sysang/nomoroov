{
 "cells": [
  {
   "cell_type": "code",
   "execution_count": 1,
   "id": "59e4c365-b039-4b03-bd28-d947300cf790",
   "metadata": {},
   "outputs": [],
   "source": [
    "import numpy as np\n",
    "import spacy\n",
    "from scipy.spatial import distance"
   ]
  },
  {
   "cell_type": "code",
   "execution_count": 2,
   "id": "f65c2e26-16c0-4c88-bb0f-78fcf28591d3",
   "metadata": {},
   "outputs": [],
   "source": [
    "nlp = spacy.load('en_core_web_lg')"
   ]
  },
  {
   "cell_type": "code",
   "execution_count": 3,
   "id": "b08f70e6-564a-459d-828b-3ecf6bb4c5f8",
   "metadata": {},
   "outputs": [
    {
     "name": "stdout",
     "output_type": "stream",
     "text": [
      "(300,)\n",
      "[0.0711693  0.81933373 0.59072348 0.16224422 0.40065475 0.93172185\n",
      " 0.23323088 0.20852848 0.06736529 0.56871355 0.46128769 0.93672366\n",
      " 0.38025336 0.57102121 0.59740994 0.34669868 0.19852334 0.89701945\n",
      " 0.16326811 0.55943295]\n"
     ]
    }
   ],
   "source": [
    "noise = np.random.rand(300)\n",
    "print(noise.shape)\n",
    "print(noise[0:20])"
   ]
  },
  {
   "cell_type": "code",
   "execution_count": 4,
   "id": "69f8fa4a-461d-44e4-bae2-728ebb7c1935",
   "metadata": {},
   "outputs": [],
   "source": [
    "ratio = 0.13"
   ]
  },
  {
   "cell_type": "code",
   "execution_count": 5,
   "id": "7393b501-b021-4d2e-a5f6-a57808b2e65d",
   "metadata": {},
   "outputs": [
    {
     "data": {
      "text/plain": [
       "array([0.00925201, 0.10651339, 0.07679405, 0.02109175, 0.05208512,\n",
       "       0.12112384, 0.03032001, 0.0271087 , 0.00875749, 0.07393276,\n",
       "       0.0599674 , 0.12177408, 0.04943294, 0.07423276, 0.07766329,\n",
       "       0.04507083, 0.02580803, 0.11661253, 0.02122485, 0.07272628])"
      ]
     },
     "execution_count": 5,
     "metadata": {},
     "output_type": "execute_result"
    }
   ],
   "source": [
    "noise = noise * ratio\n",
    "noise[0:20]"
   ]
  },
  {
   "cell_type": "code",
   "execution_count": 6,
   "id": "bd0c729b-db63-410f-a93c-a9c14b03024d",
   "metadata": {},
   "outputs": [],
   "source": [
    "doc = nlp(\"Wall Street did something 'highly unusual' in Tuesday's session\")"
   ]
  },
  {
   "cell_type": "code",
   "execution_count": 7,
   "id": "22124d2a-56a0-457f-a441-616213effda1",
   "metadata": {},
   "outputs": [],
   "source": [
    "token1 = doc[0]\n",
    "token2 = doc[1]"
   ]
  },
  {
   "cell_type": "code",
   "execution_count": 8,
   "id": "e09625d0-4c2c-4fb2-be8d-8a0fdbee50aa",
   "metadata": {},
   "outputs": [
    {
     "data": {
      "text/plain": [
       "6.568970367659688e-09"
      ]
     },
     "execution_count": 8,
     "metadata": {},
     "output_type": "execute_result"
    }
   ],
   "source": [
    "distance.cosine(token1.vector, token1.vector)"
   ]
  },
  {
   "cell_type": "code",
   "execution_count": 9,
   "id": "0c399ef1-bb3a-4690-8c3c-822c8c89b816",
   "metadata": {},
   "outputs": [
    {
     "data": {
      "text/plain": [
       "0.7888519109724299"
      ]
     },
     "execution_count": 9,
     "metadata": {},
     "output_type": "execute_result"
    }
   ],
   "source": [
    "distance.cosine(token1.vector, token2.vector)"
   ]
  },
  {
   "cell_type": "code",
   "execution_count": 10,
   "id": "6cc4816c-c83d-4d17-b603-09bca46e4b23",
   "metadata": {},
   "outputs": [],
   "source": [
    "def experiment_ratio(text, ratio):\n",
    "    noise = np.random.rand(300)\n",
    "    noise = noise * ratio\n",
    "    for token in nlp(text):\n",
    "        v1 = token.vector\n",
    "        v2 = v1 + v1 * noise\n",
    "        print('v2:', distance.cosine(v1, v2), '  noise:', distance.cosine(v1, noise))"
   ]
  },
  {
   "cell_type": "code",
   "execution_count": 11,
   "id": "9a233978-7721-42c1-b5f3-e4833812e040",
   "metadata": {},
   "outputs": [
    {
     "name": "stdout",
     "output_type": "stream",
     "text": [
      "v2: 0.1280623368207342   noise: 0.8412298048073837\n",
      "v2: 0.14233414452981163   noise: 1.049486320848978\n",
      "v2: 0.12440611660790579   noise: 0.9814242784290497\n",
      "v2: 0.13110365333536522   noise: 1.05694023329993\n",
      "v2: 0.12057261273500275   noise: 1.0641930715026997\n",
      "v2: 0.13609344502383847   noise: 1.0440888135744641\n",
      "v2: 0.13657389606860904   noise: 0.9734885084383437\n",
      "v2: 0.1346077934536818   noise: 0.9147146624215928\n",
      "v2: 0.13913614384378103   noise: 0.9293084919542522\n"
     ]
    }
   ],
   "source": [
    "experiment_ratio('Dividend cuts may mean rethinking your retirement income strategy', 1000000)"
   ]
  },
  {
   "cell_type": "code",
   "execution_count": 12,
   "id": "43466779-bee4-4b82-9a8c-6d654d16391b",
   "metadata": {},
   "outputs": [
    {
     "name": "stdout",
     "output_type": "stream",
     "text": [
      "v2: 0.12360729564565653   noise: 0.8873918100364466\n",
      "v2: 0.11552534132925185   noise: 1.0208559450056314\n",
      "v2: 0.11277503857031468   noise: 0.9773640393616633\n",
      "v2: 0.1156796864988685   noise: 0.9959145125283364\n",
      "v2: 0.1308927326589555   noise: 1.0416027490451676\n",
      "v2: 0.1250447608446179   noise: 1.0468487192340294\n",
      "v2: 0.13001015918346637   noise: 1.0433823750691527\n",
      "v2: 0.1345227900635203   noise: 0.9972898145585741\n",
      "v2: 0.11780810551642473   noise: 0.9074664211047752\n"
     ]
    }
   ],
   "source": [
    "experiment_ratio('Dividend cuts may mean rethinking your retirement income strategy', 300)"
   ]
  },
  {
   "cell_type": "code",
   "execution_count": 13,
   "id": "0d4557c0-c0bc-4332-9046-cc190bd342b0",
   "metadata": {},
   "outputs": [
    {
     "name": "stdout",
     "output_type": "stream",
     "text": [
      "v2: 0.13108662770116208   noise: 0.865466738041854\n",
      "v2: 0.11602783523660365   noise: 1.1006019277991006\n",
      "v2: 0.14067061885768184   noise: 1.0679462630683378\n",
      "v2: 0.11863902485791256   noise: 1.021816038607252\n",
      "v2: 0.1076177462658654   noise: 1.0160511154174228\n",
      "v2: 0.11114332021014062   noise: 1.0129758815620382\n",
      "v2: 0.12245247212238253   noise: 1.0141866207549757\n",
      "v2: 0.12571467487219534   noise: 0.9856392601269206\n",
      "v2: 0.12336552912909537   noise: 0.9192094816633581\n"
     ]
    }
   ],
   "source": [
    "experiment_ratio('Dividend cuts may mean rethinking your retirement income strategy', 100)"
   ]
  },
  {
   "cell_type": "code",
   "execution_count": 14,
   "id": "b5b13ddd-e99e-434c-ad2a-6adc07c51337",
   "metadata": {},
   "outputs": [
    {
     "name": "stdout",
     "output_type": "stream",
     "text": [
      "v2: 0.09118655595528047   noise: 0.8736301362737098\n",
      "v2: 0.09151849252823863   noise: 1.0706652368094691\n",
      "v2: 0.0940032388919595   noise: 0.9614349308911281\n",
      "v2: 0.09619205588364421   noise: 1.0165811154307285\n",
      "v2: 0.09967303967751728   noise: 1.0553814525071306\n",
      "v2: 0.10018505244477316   noise: 1.0281573207973398\n",
      "v2: 0.10178656169684586   noise: 1.0501610440924618\n",
      "v2: 0.09643556013416277   noise: 0.9843037496948978\n",
      "v2: 0.09774037652334622   noise: 0.984111201507666\n"
     ]
    }
   ],
   "source": [
    "experiment_ratio('Dividend cuts may mean rethinking your retirement income strategy', 10)"
   ]
  },
  {
   "cell_type": "code",
   "execution_count": 18,
   "id": "5b6478b7-83fc-4a06-9bad-9e819d5a1461",
   "metadata": {},
   "outputs": [
    {
     "name": "stdout",
     "output_type": "stream",
     "text": [
      "v2: 0.08031423937737137   noise: 0.8245536944420488\n",
      "v2: 0.08949349773449788   noise: 1.0600799784657227\n",
      "v2: 0.09328793164253146   noise: 1.0113522098146361\n",
      "v2: 0.07794324305799083   noise: 1.0453533400916766\n",
      "v2: 0.07095794443689807   noise: 0.9882234507613242\n",
      "v2: 0.08388490043123531   noise: 1.067169318057164\n",
      "v2: 0.07980560923850744   noise: 0.9680398233506209\n",
      "v2: 0.08795861519517545   noise: 0.9678137314754763\n",
      "v2: 0.07919805303822047   noise: 0.9031804233438553\n"
     ]
    }
   ],
   "source": [
    "experiment_ratio('Dividend cuts may mean rethinking your retirement income strategy', 4.9)"
   ]
  },
  {
   "cell_type": "code",
   "execution_count": 55,
   "id": "dfa8bad0-ed3a-4df8-b5d7-1688e107c118",
   "metadata": {},
   "outputs": [
    {
     "name": "stdout",
     "output_type": "stream",
     "text": [
      "v2: 0.016897980226474596   noise: 0.8797294674967083\n",
      "v2: 0.015849536273135123   noise: 0.999734897868424\n",
      "v2: 0.019468529837083692   noise: 1.019099461360974\n",
      "v2: 0.015210140071027833   noise: 1.0209295085589083\n",
      "v2: 0.015777117623011594   noise: 1.0256417359235719\n",
      "v2: 0.01945440410146171   noise: 1.0366250786824465\n",
      "v2: 0.016468104595710575   noise: 1.01479079769558\n",
      "v2: 0.015891661403037216   noise: 0.9771103338300551\n",
      "v2: 0.019023585062607817   noise: 0.9492001626219537\n"
     ]
    }
   ],
   "source": [
    "experiment_ratio('Dividend cuts may mean rethinking your retirement income strategy', 1)"
   ]
  },
  {
   "cell_type": "code",
   "execution_count": 56,
   "id": "7f1cb9d8-a1ee-46d1-89cb-5318e256c1e3",
   "metadata": {},
   "outputs": [
    {
     "name": "stdout",
     "output_type": "stream",
     "text": [
      "v2: 0.0003969865225065261   noise: 0.9198229966070044\n",
      "v2: 0.00037363356040009954   noise: 1.0566859096182768\n",
      "v2: 0.0004029995190050206   noise: 1.0338967634926317\n",
      "v2: 0.00035247268919758046   noise: 0.981684262422088\n",
      "v2: 0.00035084243178873376   noise: 1.0276939871523694\n",
      "v2: 0.00033966609406688164   noise: 1.0238632023374339\n",
      "v2: 0.00037516479527266444   noise: 1.0645569510305153\n",
      "v2: 0.00040498800552324354   noise: 1.0358677566239163\n",
      "v2: 0.00038180414563704357   noise: 0.9734253716220406\n"
     ]
    }
   ],
   "source": [
    "experiment_ratio('Dividend cuts may mean rethinking your retirement income strategy', 0.1)"
   ]
  },
  {
   "cell_type": "code",
   "execution_count": 57,
   "id": "f959eb02-b34c-43ad-a62f-87b7e0e8c2fc",
   "metadata": {},
   "outputs": [
    {
     "name": "stdout",
     "output_type": "stream",
     "text": [
      "v2: 0.1386425437772001   noise: 0.9696912255956226\n",
      "v2: 0.12945518492914265   noise: 0.861915955711775\n",
      "v2: 0.12359748790077707   noise: 1.057544174654151\n",
      "v2: 0.10350080538345519   noise: 0.9908744695293683\n",
      "v2: 0.12442469271693135   noise: 0.880355924472626\n",
      "v2: 0.12053827385993188   noise: 1.0374700347213583\n",
      "v2: 0.14594456459791327   noise: 1.0501885649748217\n",
      "v2: 0.12024872156519484   noise: 1.0560096796266316\n",
      "v2: 0.11049166410903266   noise: 0.9756464005706124\n",
      "v2: 0.12379258038819663   noise: 0.8890329445145828\n",
      "v2: 0.11400151584770035   noise: 1.0126147754023278\n",
      "v2: 0.10350080538345519   noise: 0.9908744695293683\n",
      "v2: 0.13370173219289994   noise: 0.9263255203526843\n"
     ]
    }
   ],
   "source": [
    "experiment_ratio('Jim Cramer deciphers the speculative and blue-chip stocks driving the market', 300)"
   ]
  },
  {
   "cell_type": "code",
   "execution_count": 58,
   "id": "ee10f389-5d41-4dc8-87a1-f8acec9a39cb",
   "metadata": {},
   "outputs": [
    {
     "name": "stdout",
     "output_type": "stream",
     "text": [
      "v2: 0.11200375406091889   noise: 0.9404770906591007\n",
      "v2: 0.11493324186580689   noise: 0.8749726964532166\n",
      "v2: 0.12882813714570107   noise: 1.0946500141882753\n",
      "v2: 0.10684825832394851   noise: 0.9268044335761094\n",
      "v2: 0.13211797613807785   noise: 0.9113979876610846\n",
      "v2: 0.14509222049305837   noise: 1.0103738820652903\n",
      "v2: 0.12113778619016369   noise: 1.0944102830299482\n",
      "v2: 0.12452597948185529   noise: 1.0937137204055039\n",
      "v2: 0.11740063058188133   noise: 0.976419533542694\n",
      "v2: 0.15134624846571998   noise: 0.9626217349848665\n",
      "v2: 0.12991650790189913   noise: 1.0385413581904304\n",
      "v2: 0.10684825832394851   noise: 0.9268044335761094\n",
      "v2: 0.11697168246491285   noise: 0.9488109520550206\n"
     ]
    }
   ],
   "source": [
    "experiment_ratio('Jim Cramer deciphers the speculative and blue-chip stocks driving the market', 50)"
   ]
  },
  {
   "cell_type": "code",
   "execution_count": 64,
   "id": "b0744600-6387-4eba-b07a-96d67354d248",
   "metadata": {},
   "outputs": [
    {
     "name": "stdout",
     "output_type": "stream",
     "text": [
      "v2: 0.10910172828274478   noise: 0.9918126486741402\n",
      "v2: 0.09593506674549224   noise: 0.9007787216833182\n",
      "v2: 0.10012127150644023   noise: 1.0867410183027733\n",
      "v2: 0.11002090394117214   noise: 0.9479564004940676\n",
      "v2: 0.09517136751027488   noise: 0.9269384923466978\n",
      "v2: 0.11600157267089173   noise: 1.0391689373468862\n",
      "v2: 0.10306347412918682   noise: 1.0880311528791538\n",
      "v2: 0.11104945641534014   noise: 1.0496866292874503\n",
      "v2: 0.11657110801977755   noise: 1.0236474906519502\n",
      "v2: 0.09017187854478503   noise: 0.9362426838461437\n",
      "v2: 0.11684278691384409   noise: 1.061398706986406\n",
      "v2: 0.11002090394117214   noise: 0.9479564004940676\n",
      "v2: 0.09459708815512768   noise: 0.9541057202515284\n"
     ]
    }
   ],
   "source": [
    "experiment_ratio('Jim Cramer deciphers the speculative and blue-chip stocks driving the market', 10)"
   ]
  },
  {
   "cell_type": "code",
   "execution_count": 65,
   "id": "cf27c20e-a7e3-411f-bd42-d63a993c5643",
   "metadata": {},
   "outputs": [
    {
     "name": "stdout",
     "output_type": "stream",
     "text": [
      "v2: 0.017186757014795107   noise: 0.9312264369533974\n",
      "v2: 0.015043893390959018   noise: 0.8873463731479371\n",
      "v2: 0.01701012800167989   noise: 1.0348997148932773\n",
      "v2: 0.016675692374469975   noise: 0.9537679347738377\n",
      "v2: 0.018533861890049907   noise: 0.906610775320838\n",
      "v2: 0.017837134935857923   noise: 1.0530485609745464\n",
      "v2: 0.018959388828086565   noise: 1.0937942662567142\n",
      "v2: 0.018597441322357522   noise: 1.07717713197533\n",
      "v2: 0.017726476562477944   noise: 0.9689512005256666\n",
      "v2: 0.017801001922594817   noise: 0.9805172815745954\n",
      "v2: 0.018494035172423207   noise: 1.0746835108985273\n",
      "v2: 0.016675692374469975   noise: 0.9537679347738377\n",
      "v2: 0.017915539919112544   noise: 0.9480579807195426\n"
     ]
    }
   ],
   "source": [
    "experiment_ratio('Jim Cramer deciphers the speculative and blue-chip stocks driving the market', 1)"
   ]
  },
  {
   "cell_type": "code",
   "execution_count": 66,
   "id": "df13c22c-1fc5-442c-8ca4-e4b36c3c0e82",
   "metadata": {},
   "outputs": [],
   "source": [
    "def experiment2_ratio(text, ratio):\n",
    "    noise = np.random.rand(300)\n",
    "    noise = noise * ratio\n",
    "    for token in nlp(text):\n",
    "        v1 = token.vector\n",
    "        v2 = v1 + noise\n",
    "        print('v2:', distance.cosine(v1, v2), '  noise:', distance.cosine(v1, noise))"
   ]
  },
  {
   "cell_type": "code",
   "execution_count": 68,
   "id": "f5b28bf8-a358-4a35-ad34-78d0dd90ce9c",
   "metadata": {},
   "outputs": [
    {
     "name": "stdout",
     "output_type": "stream",
     "text": [
      "v2: 0.9152088621381071   noise: 0.9152123284914833\n",
      "v2: 1.070556210407779   noise: 1.070561652407139\n",
      "v2: 0.9883181932184327   noise: 0.9883271549491298\n",
      "v2: 0.9949536905376715   noise: 0.9949587051891523\n",
      "v2: 1.0025278066344443   noise: 1.0025308738786756\n",
      "v2: 1.0092902364927023   noise: 1.0092974503816123\n",
      "v2: 0.983197569252202   noise: 0.9832016094018784\n",
      "v2: 0.9383240850763344   noise: 0.9383302051457334\n",
      "v2: 0.9437974968177358   noise: 0.9438020053383233\n"
     ]
    }
   ],
   "source": [
    "experiment2_ratio('Dividend cuts may mean rethinking your retirement income strategy', 1000000)"
   ]
  },
  {
   "cell_type": "code",
   "execution_count": 69,
   "id": "c3896fcc-fb22-448d-9dc0-9a24fb84d3c8",
   "metadata": {},
   "outputs": [
    {
     "name": "stdout",
     "output_type": "stream",
     "text": [
      "v2: 0.8312187193859965   noise: 0.8646856822977205\n",
      "v2: 0.972432088545038   noise: 1.0262369942213174\n",
      "v2: 0.9439828086597537   noise: 1.032100565618671\n",
      "v2: 0.9583231263913341   noise: 1.0076231591396951\n",
      "v2: 1.0536501495386212   noise: 1.0837144706722512\n",
      "v2: 0.9668702509221347   noise: 1.0378516971094385\n",
      "v2: 1.0152677157767178   noise: 1.0550043263403508\n",
      "v2: 0.9266437004209195   noise: 0.9868905788034364\n",
      "v2: 0.9380775964954187   noise: 0.9824631453408906\n"
     ]
    }
   ],
   "source": [
    "experiment2_ratio('Dividend cuts may mean rethinking your retirement income strategy', 100)"
   ]
  },
  {
   "cell_type": "code",
   "execution_count": 70,
   "id": "a2c3a3f9-6c59-4786-811f-aa23128ce24c",
   "metadata": {},
   "outputs": [
    {
     "name": "stdout",
     "output_type": "stream",
     "text": [
      "v2: 0.03583615799899098   noise: 0.8425881822096555\n",
      "v2: 0.017036316136244345   noise: 1.0295017767841772\n",
      "v2: 0.006434116711719673   noise: 1.0448845997712852\n",
      "v2: 0.020251688250806255   noise: 1.0392846360100845\n",
      "v2: 0.05147129622130253   noise: 1.01999621300564\n",
      "v2: 0.009963941546027755   noise: 1.0852355131333697\n",
      "v2: 0.030256472175658078   noise: 0.9994917298370202\n",
      "v2: 0.013080535179240127   noise: 0.9307139521550456\n",
      "v2: 0.023195780021580292   noise: 0.9043225947177269\n"
     ]
    }
   ],
   "source": [
    "experiment2_ratio('Dividend cuts may mean rethinking your retirement income strategy', 1)"
   ]
  },
  {
   "cell_type": "code",
   "execution_count": 71,
   "id": "aa3e5f51-620b-48a3-a694-38d52b903693",
   "metadata": {},
   "outputs": [
    {
     "name": "stdout",
     "output_type": "stream",
     "text": [
      "v2: 0.18520427562150765   noise: 0.9707630124327707\n",
      "v2: 0.4728110244700925   noise: 0.9096868041863712\n",
      "v2: 0.5028995324940628   noise: 1.0391795882162982\n",
      "v2: 0.1804397156899975   noise: 0.9899341641904438\n",
      "v2: 0.43610183859568197   noise: 0.9480234316648422\n",
      "v2: 0.2538119695754032   noise: 1.0753200567200547\n",
      "v2: 0.2647302603725741   noise: 1.0104353997666076\n",
      "v2: 0.15067870470639733   noise: 1.0394201179955407\n",
      "v2: 0.2773292343390318   noise: 0.9745582836686124\n",
      "v2: 0.2895800885903028   noise: 0.9337691789398601\n",
      "v2: 0.3650715449036127   noise: 1.0608421410557085\n",
      "v2: 0.1804397156899975   noise: 0.9899341641904438\n",
      "v2: 0.22811617361302694   noise: 0.9777790658682078\n"
     ]
    }
   ],
   "source": [
    "experiment2_ratio('Jim Cramer deciphers the speculative and blue-chip stocks driving the market', 5)"
   ]
  },
  {
   "cell_type": "code",
   "execution_count": null,
   "id": "1a13bcfe-7f0d-48f5-86a0-cfd1788e34e3",
   "metadata": {},
   "outputs": [],
   "source": []
  }
 ],
 "metadata": {
  "kernelspec": {
   "display_name": "Python 3 (ipykernel)",
   "language": "python",
   "name": "python3"
  },
  "language_info": {
   "codemirror_mode": {
    "name": "ipython",
    "version": 3
   },
   "file_extension": ".py",
   "mimetype": "text/x-python",
   "name": "python",
   "nbconvert_exporter": "python",
   "pygments_lexer": "ipython3",
   "version": "3.10.12"
  }
 },
 "nbformat": 4,
 "nbformat_minor": 5
}
