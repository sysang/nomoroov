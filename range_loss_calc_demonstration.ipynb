{
 "cells": [
  {
   "cell_type": "code",
   "execution_count": 9,
   "id": "4fc98035-a914-47b9-adc1-874a57c24fd5",
   "metadata": {},
   "outputs": [],
   "source": [
    "import torch"
   ]
  },
  {
   "cell_type": "code",
   "execution_count": 53,
   "id": "7dee55ae-767a-4e58-9c2a-d734d1daa233",
   "metadata": {},
   "outputs": [],
   "source": [
    "v1 = torch.tensor(-1.0)\n",
    "v2 = torch.tensor(1.)\n",
    "v = v1 - v2"
   ]
  },
  {
   "cell_type": "code",
   "execution_count": 66,
   "id": "81dcecde-57f3-4cd6-8abe-6c7770d6e005",
   "metadata": {},
   "outputs": [
    {
     "data": {
      "text/plain": [
       "torch.Size([20])"
      ]
     },
     "execution_count": 66,
     "metadata": {},
     "output_type": "execute_result"
    }
   ],
   "source": [
    "data = [-0.4301,  0.3461, -0.8389, -0.8988,  0.4395,  0.2668, -0.6573, -0.4025,\n",
    "        -0.1955,  0.8036, -0.6360, -0.9323, -0.0178,  0.1041, -0.1297,  0.5402,\n",
    "         0.4044, -0.5942,  0.8601,  0.8345]\n",
    "pred = torch.tensor(data)\n",
    "pred.shape"
   ]
  },
  {
   "cell_type": "code",
   "execution_count": 78,
   "id": "7e36389d-bad4-4c41-8bc4-a8c7fedf0983",
   "metadata": {},
   "outputs": [],
   "source": [
    "r1 = torch.tensor(-0.5, dtype=torch.float32)\n",
    "r2 = torch.tensor(0.5, dtype=torch.float32)"
   ]
  },
  {
   "cell_type": "code",
   "execution_count": 79,
   "id": "c032c2f9-5485-4b01-bd80-e7c57faf00ec",
   "metadata": {},
   "outputs": [
    {
     "data": {
      "text/plain": [
       "tensor([0.0000, 0.0000, 0.3389, 0.3988, 0.0000, 0.0000, 0.1573, 0.0000, 0.0000,\n",
       "        0.3036, 0.1360, 0.4323, 0.0000, 0.0000, 0.0000, 0.0402, 0.0000, 0.0942,\n",
       "        0.3601, 0.3345])"
      ]
     },
     "execution_count": 79,
     "metadata": {},
     "output_type": "execute_result"
    }
   ],
   "source": [
    "expected_loss = torch.tensor([0.0, 0.0, 0.3389, 0.3988, 0.0, 0.0, 0.1573, 0.0, 0.0, 0.3036, 0.1360, 0.4323, 0.0, 0.0, 0.0, 0.0402, 0.0, 0.0942, 0.3601, 0.3345])\n",
    "expected_loss"
   ]
  },
  {
   "cell_type": "code",
   "execution_count": 80,
   "id": "e5b3ebef-adaa-45ec-9126-6e5be3dc3868",
   "metadata": {},
   "outputs": [
    {
     "data": {
      "text/plain": [
       "tensor([0, 0, 1, 1, 0, 0, 1, 0, 0, 0, 1, 1, 0, 0, 0, 0, 0, 1, 0, 0],\n",
       "       dtype=torch.int32)"
      ]
     },
     "execution_count": 80,
     "metadata": {},
     "output_type": "execute_result"
    }
   ],
   "source": [
    "masking_r1 = pred < r1\n",
    "masking_r1 = masking_r1.int()\n",
    "masking_r1"
   ]
  },
  {
   "cell_type": "code",
   "execution_count": 81,
   "id": "5801d0ac-91f6-473b-93fb-94446d39866b",
   "metadata": {},
   "outputs": [
    {
     "data": {
      "text/plain": [
       "tensor([-0.0699, -0.8461,  0.3389,  0.3988, -0.9395, -0.7668,  0.1573, -0.0975,\n",
       "        -0.3045, -1.3036,  0.1360,  0.4323, -0.4822, -0.6041, -0.3703, -1.0402,\n",
       "        -0.9044,  0.0942, -1.3601, -1.3345])"
      ]
     },
     "execution_count": 81,
     "metadata": {},
     "output_type": "execute_result"
    }
   ],
   "source": [
    "l1 = r1 - pred\n",
    "l1"
   ]
  },
  {
   "cell_type": "code",
   "execution_count": 82,
   "id": "3cc21b3e-18bc-4ffd-bf0e-1db370e31bf7",
   "metadata": {},
   "outputs": [
    {
     "data": {
      "text/plain": [
       "tensor([-0.0000, -0.0000, 0.3389, 0.3988, -0.0000, -0.0000, 0.1573, -0.0000, -0.0000,\n",
       "        -0.0000, 0.1360, 0.4323, -0.0000, -0.0000, -0.0000, -0.0000, -0.0000, 0.0942,\n",
       "        -0.0000, -0.0000])"
      ]
     },
     "execution_count": 82,
     "metadata": {},
     "output_type": "execute_result"
    }
   ],
   "source": [
    "l1 = l1.mul(masking_r1)\n",
    "l1"
   ]
  },
  {
   "cell_type": "code",
   "execution_count": 88,
   "id": "e19aed83-92d2-4b16-a890-51fd0b3606aa",
   "metadata": {},
   "outputs": [
    {
     "data": {
      "text/plain": [
       "tensor([0, 0, 0, 0, 0, 0, 0, 0, 0, 1, 0, 0, 0, 0, 0, 1, 0, 0, 1, 1],\n",
       "       dtype=torch.int32)"
      ]
     },
     "execution_count": 88,
     "metadata": {},
     "output_type": "execute_result"
    }
   ],
   "source": [
    "masking_r2 = r2 < pred\n",
    "masking_r2 = masking_r2.int()\n",
    "masking_r2"
   ]
  },
  {
   "cell_type": "code",
   "execution_count": 89,
   "id": "bb0422cb-b205-429c-a6dc-ecea2b0ebca3",
   "metadata": {},
   "outputs": [
    {
     "data": {
      "text/plain": [
       "tensor([-0.9301, -0.1539, -1.3389, -1.3988, -0.0605, -0.2332, -1.1573, -0.9025,\n",
       "        -0.6955,  0.3036, -1.1360, -1.4323, -0.5178, -0.3959, -0.6297,  0.0402,\n",
       "        -0.0956, -1.0942,  0.3601,  0.3345])"
      ]
     },
     "execution_count": 89,
     "metadata": {},
     "output_type": "execute_result"
    }
   ],
   "source": [
    "l2 = pred - r2\n",
    "l2"
   ]
  },
  {
   "cell_type": "code",
   "execution_count": 90,
   "id": "b36100ca-cb22-47ce-94aa-5d818579ee19",
   "metadata": {},
   "outputs": [
    {
     "data": {
      "text/plain": [
       "tensor([-0.0000, -0.0000, -0.0000, -0.0000, -0.0000, -0.0000, -0.0000, -0.0000, -0.0000,\n",
       "        0.3036, -0.0000, -0.0000, -0.0000, -0.0000, -0.0000, 0.0402, -0.0000, -0.0000,\n",
       "        0.3601, 0.3345])"
      ]
     },
     "execution_count": 90,
     "metadata": {},
     "output_type": "execute_result"
    }
   ],
   "source": [
    "l2 = l2.mul(masking_r2)\n",
    "l2"
   ]
  },
  {
   "cell_type": "code",
   "execution_count": 91,
   "id": "9390009e-f675-4dce-b381-d6181d44b29a",
   "metadata": {},
   "outputs": [
    {
     "data": {
      "text/plain": [
       "tensor([-0.0000, -0.0000, 0.3389, 0.3988, -0.0000, -0.0000, 0.1573, -0.0000, -0.0000,\n",
       "        0.3036, 0.1360, 0.4323, -0.0000, -0.0000, -0.0000, 0.0402, -0.0000, 0.0942,\n",
       "        0.3601, 0.3345])"
      ]
     },
     "execution_count": 91,
     "metadata": {},
     "output_type": "execute_result"
    }
   ],
   "source": [
    "l = l1 +  l2\n",
    "l"
   ]
  },
  {
   "cell_type": "code",
   "execution_count": 92,
   "id": "f5154464-a41a-4b9f-a006-fdb80148b67b",
   "metadata": {},
   "outputs": [
    {
     "data": {
      "text/plain": [
       "tensor([0.0000, 0.0000, 0.3389, 0.3988, 0.0000, 0.0000, 0.1573, 0.0000, 0.0000,\n",
       "        0.3036, 0.1360, 0.4323, 0.0000, 0.0000, 0.0000, 0.0402, 0.0000, 0.0942,\n",
       "        0.3601, 0.3345])"
      ]
     },
     "execution_count": 92,
     "metadata": {},
     "output_type": "execute_result"
    }
   ],
   "source": [
    "expected_loss"
   ]
  },
  {
   "cell_type": "code",
   "execution_count": null,
   "id": "82da4dee-b02f-4642-a80a-902258cb59f9",
   "metadata": {},
   "outputs": [],
   "source": []
  }
 ],
 "metadata": {
  "kernelspec": {
   "display_name": "Python 3 (ipykernel)",
   "language": "python",
   "name": "python3"
  },
  "language_info": {
   "codemirror_mode": {
    "name": "ipython",
    "version": 3
   },
   "file_extension": ".py",
   "mimetype": "text/x-python",
   "name": "python",
   "nbconvert_exporter": "python",
   "pygments_lexer": "ipython3",
   "version": "3.10.12"
  }
 },
 "nbformat": 4,
 "nbformat_minor": 5
}
